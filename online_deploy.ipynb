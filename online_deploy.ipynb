{
 "cells": [
  {
   "cell_type": "code",
   "execution_count": 1,
   "id": "initial_id",
   "metadata": {
    "collapsed": true,
    "ExecuteTime": {
     "end_time": "2023-09-06T14:31:35.768046800Z",
     "start_time": "2023-09-06T14:31:33.959317400Z"
    }
   },
   "outputs": [],
   "source": [
    "import time\n",
    "import numpy as np\n",
    "import cv2\n",
    "\n",
    "import onnxruntime\n",
    "from utils import *\n",
    "from utils.general import *\n",
    "\n",
    "import matplotlib.pyplot as plt\n",
    "%matplotlib inline"
   ]
  },
  {
   "cell_type": "code",
   "execution_count": 2,
   "outputs": [],
   "source": [
    "# ONNX 模型路径\n",
    "onnx_path = './weights/best.onnx'"
   ],
   "metadata": {
    "collapsed": false,
    "ExecuteTime": {
     "end_time": "2023-09-06T14:31:35.783047400Z",
     "start_time": "2023-09-06T14:31:35.769046800Z"
    }
   },
   "id": "f7efd2196872fd16"
  },
  {
   "cell_type": "code",
   "execution_count": null,
   "outputs": [],
   "source": [],
   "metadata": {
    "collapsed": false
   },
   "id": "3664452fbbfebf51"
  },
  {
   "cell_type": "code",
   "execution_count": 3,
   "outputs": [
    {
     "name": "stderr",
     "output_type": "stream",
     "text": [
      "D:\\anaconda\\envs\\vision_deploy\\lib\\site-packages\\onnxruntime\\capi\\onnxruntime_inference_collection.py:65: UserWarning: Specified provider 'CUDAExecutionProvider' is not in available provider names.Available providers: 'CPUExecutionProvider'\n",
      "  warnings.warn(\n"
     ]
    }
   ],
   "source": [
    "ort_session = onnxruntime.InferenceSession(onnx_path, providers=['CUDAExecutionProvider', 'CPUExecutionProvider'])\n"
   ],
   "metadata": {
    "collapsed": false,
    "ExecuteTime": {
     "end_time": "2023-09-06T14:31:36.182555400Z",
     "start_time": "2023-09-06T14:31:35.786046600Z"
    }
   },
   "id": "426435e6911334c7"
  },
  {
   "cell_type": "code",
   "execution_count": 4,
   "outputs": [],
   "source": [
    "palette = [\n",
    "    ['background', [127,127,127]],\n",
    "    ['red', [0,0,200]],\n",
    "    ['green', [0,200,0]],\n",
    "    ['white', [144,238,144]],\n",
    "    ['seed-black', [30,30,30]],\n",
    "    ['seed-white', [8,189,251]]\n",
    "]\n",
    "\n",
    "palette_dict = {}\n",
    "for idx, each in enumerate(palette):\n",
    "    palette_dict[idx] = each[1]"
   ],
   "metadata": {
    "collapsed": false,
    "ExecuteTime": {
     "end_time": "2023-09-06T14:31:36.225625400Z",
     "start_time": "2023-09-06T14:31:36.184553100Z"
    }
   },
   "id": "445b7587b9f43d9d"
  },
  {
   "cell_type": "code",
   "execution_count": 5,
   "outputs": [],
   "source": [
    "def process_frame(img_bgr, image_size=640):\n",
    "    \n",
    "    '''\n",
    "    输入摄像头画面 bgr-array，输出图像 bgr-array\n",
    "    '''\n",
    "    \n",
    "    # 记录该帧开始处理的时间\n",
    "    start_time = time.time()\n",
    "    \n",
    "    # 缩放至模型要求的像素\n",
    "    img_bgr_resize = cv2.resize(img_bgr, (image_size, image_size)) # 缩放尺寸\n",
    "    \n",
    "    # 预处理\n",
    "    img_tensor = img_bgr_resize\n",
    "    mean = (123.675, 116.28, 103.53) # BGR 三通道的均值\n",
    "    std = (58.395, 57.12, 57.375) # BGR 三通道的标准差\n",
    "\n",
    "    # 归一化\n",
    "    img_tensor = (img_tensor - mean) / std\n",
    "    img_tensor = img_tensor.astype('float32')\n",
    "    img_tensor = cv2.cvtColor(img_tensor, cv2.COLOR_BGR2RGB) # BGR 转 RGB\n",
    "    img_tensor = np.transpose(img_tensor, (2, 0, 1)) # 调整维度\n",
    "    input_tensor = np.expand_dims(img_tensor, axis=0) # 扩充 batch-size 维度\n",
    "\n",
    "    # ONNX Runtime预测\n",
    "    # ONNX Runtime 输入\n",
    "    ort_inputs = {'images': input_tensor}\n",
    "    # onnx runtime 输出\n",
    "    ort_output = ort_session.run(['output0'], ort_inputs)[0]\n",
    "    # pred_mask = ort_output[0][0]\n",
    "    # \n",
    "    #  # 将预测的整数ID，映射为对应类别的颜色\n",
    "    # pred_mask_bgr = np.zeros((pred_mask.shape[0], pred_mask.shape[1], 3))\n",
    "    # for idx in palette_dict.keys():\n",
    "    #     pred_mask_bgr[np.where(pred_mask==idx)] = palette_dict[idx]\n",
    "    # pred_mask_bgr = pred_mask_bgr.astype('uint8')\n",
    "    # \n",
    "    # # 将语义分割预测图和原图叠加显示\n",
    "    # pred_viz = cv2.addWeighted(img_bgr_resize, opacity, pred_mask_bgr, 1-opacity, 0)\n",
    "    # \n",
    "    # img_bgr = pred_viz\n",
    "    # \n",
    "    # # 记录该帧处理完毕的时间\n",
    "    # end_time = time.time()\n",
    "    # # 计算每秒处理图像帧数FPS\n",
    "    # FPS = 1/(end_time - start_time)\n",
    "    # \n",
    "    # # 在画面上写字：图片，字符串，左上角坐标，字体，字体大小，颜色，字体粗细\n",
    "    # scaler = 2 # 文字大小\n",
    "    # FPS_string = 'FPS {:.2f}'.format(FPS) # 写在画面上的字符串\n",
    "    # img_bgr = cv2.putText(img_bgr, FPS_string, (25 * scaler, 100 * scaler), cv2.FONT_HERSHEY_SIMPLEX, 1.25 * scaler, (255, 0, 255), 2 * scaler)\n",
    "    \n",
    "    return img_bgr"
   ],
   "metadata": {
    "collapsed": false,
    "ExecuteTime": {
     "end_time": "2023-09-06T14:31:36.227661100Z",
     "start_time": "2023-09-06T14:31:36.205551300Z"
    }
   },
   "id": "52c147c319557b4"
  },
  {
   "cell_type": "code",
   "execution_count": 6,
   "outputs": [
    {
     "ename": "InvalidArgument",
     "evalue": "[ONNXRuntimeError] : 2 : INVALID_ARGUMENT : Invalid Output Name:output",
     "output_type": "error",
     "traceback": [
      "\u001B[1;31m---------------------------------------------------------------------------\u001B[0m",
      "\u001B[1;31mInvalidArgument\u001B[0m                           Traceback (most recent call last)",
      "Cell \u001B[1;32mIn[6], line 26\u001B[0m\n\u001B[0;32m     23\u001B[0m     \u001B[38;5;28;01mbreak\u001B[39;00m\n\u001B[0;32m     25\u001B[0m \u001B[38;5;66;03m## 逐帧处理\u001B[39;00m\n\u001B[1;32m---> 26\u001B[0m frame \u001B[38;5;241m=\u001B[39m \u001B[43mprocess_frame\u001B[49m\u001B[43m(\u001B[49m\u001B[43mframe\u001B[49m\u001B[43m)\u001B[49m\n\u001B[0;32m     28\u001B[0m \u001B[38;5;66;03m# 展示处理后的三通道图像\u001B[39;00m\n\u001B[0;32m     29\u001B[0m cv2\u001B[38;5;241m.\u001B[39mimshow(\u001B[38;5;124m'\u001B[39m\u001B[38;5;124mmy_window\u001B[39m\u001B[38;5;124m'\u001B[39m,frame)\n",
      "Cell \u001B[1;32mIn[5], line 29\u001B[0m, in \u001B[0;36mprocess_frame\u001B[1;34m(img_bgr, image_size)\u001B[0m\n\u001B[0;32m     27\u001B[0m ort_inputs \u001B[38;5;241m=\u001B[39m {\u001B[38;5;124m'\u001B[39m\u001B[38;5;124mimages\u001B[39m\u001B[38;5;124m'\u001B[39m: input_tensor}\n\u001B[0;32m     28\u001B[0m \u001B[38;5;66;03m# onnx runtime 输出\u001B[39;00m\n\u001B[1;32m---> 29\u001B[0m ort_output \u001B[38;5;241m=\u001B[39m \u001B[43mort_session\u001B[49m\u001B[38;5;241;43m.\u001B[39;49m\u001B[43mrun\u001B[49m\u001B[43m(\u001B[49m\u001B[43m[\u001B[49m\u001B[38;5;124;43m'\u001B[39;49m\u001B[38;5;124;43moutput\u001B[39;49m\u001B[38;5;124;43m'\u001B[39;49m\u001B[43m]\u001B[49m\u001B[43m,\u001B[49m\u001B[43m \u001B[49m\u001B[43mort_inputs\u001B[49m\u001B[43m)\u001B[49m[\u001B[38;5;241m0\u001B[39m]\n\u001B[0;32m     30\u001B[0m \u001B[38;5;66;03m# pred_mask = ort_output[0][0]\u001B[39;00m\n\u001B[0;32m     31\u001B[0m \u001B[38;5;66;03m# \u001B[39;00m\n\u001B[0;32m     32\u001B[0m \u001B[38;5;66;03m#  # 将预测的整数ID，映射为对应类别的颜色\u001B[39;00m\n\u001B[1;32m   (...)\u001B[0m\n\u001B[0;32m     50\u001B[0m \u001B[38;5;66;03m# FPS_string = 'FPS {:.2f}'.format(FPS) # 写在画面上的字符串\u001B[39;00m\n\u001B[0;32m     51\u001B[0m \u001B[38;5;66;03m# img_bgr = cv2.putText(img_bgr, FPS_string, (25 * scaler, 100 * scaler), cv2.FONT_HERSHEY_SIMPLEX, 1.25 * scaler, (255, 0, 255), 2 * scaler)\u001B[39;00m\n\u001B[0;32m     53\u001B[0m \u001B[38;5;28;01mreturn\u001B[39;00m img_bgr\n",
      "File \u001B[1;32mD:\\anaconda\\envs\\vision_deploy\\lib\\site-packages\\onnxruntime\\capi\\onnxruntime_inference_collection.py:217\u001B[0m, in \u001B[0;36mSession.run\u001B[1;34m(self, output_names, input_feed, run_options)\u001B[0m\n\u001B[0;32m    215\u001B[0m     output_names \u001B[38;5;241m=\u001B[39m [output\u001B[38;5;241m.\u001B[39mname \u001B[38;5;28;01mfor\u001B[39;00m output \u001B[38;5;129;01min\u001B[39;00m \u001B[38;5;28mself\u001B[39m\u001B[38;5;241m.\u001B[39m_outputs_meta]\n\u001B[0;32m    216\u001B[0m \u001B[38;5;28;01mtry\u001B[39;00m:\n\u001B[1;32m--> 217\u001B[0m     \u001B[38;5;28;01mreturn\u001B[39;00m \u001B[38;5;28;43mself\u001B[39;49m\u001B[38;5;241;43m.\u001B[39;49m\u001B[43m_sess\u001B[49m\u001B[38;5;241;43m.\u001B[39;49m\u001B[43mrun\u001B[49m\u001B[43m(\u001B[49m\u001B[43moutput_names\u001B[49m\u001B[43m,\u001B[49m\u001B[43m \u001B[49m\u001B[43minput_feed\u001B[49m\u001B[43m,\u001B[49m\u001B[43m \u001B[49m\u001B[43mrun_options\u001B[49m\u001B[43m)\u001B[49m\n\u001B[0;32m    218\u001B[0m \u001B[38;5;28;01mexcept\u001B[39;00m C\u001B[38;5;241m.\u001B[39mEPFail \u001B[38;5;28;01mas\u001B[39;00m err:\n\u001B[0;32m    219\u001B[0m     \u001B[38;5;28;01mif\u001B[39;00m \u001B[38;5;28mself\u001B[39m\u001B[38;5;241m.\u001B[39m_enable_fallback:\n",
      "\u001B[1;31mInvalidArgument\u001B[0m: [ONNXRuntimeError] : 2 : INVALID_ARGUMENT : Invalid Output Name:output"
     ]
    }
   ],
   "source": [
    "# 调用摄像头逐帧实时处理模板\n",
    "# 不需修改任何代码，只需修改process_frame函数即可\n",
    "# 同济子豪兄 2021-7-8\n",
    "\n",
    "# 导入opencv-python\n",
    "import cv2\n",
    "import time\n",
    "\n",
    "# 获取摄像头，传入0表示获取系统默认摄像头\n",
    "cap = cv2.VideoCapture(1)\n",
    "\n",
    "# 打开cap\n",
    "cap.open(0)\n",
    "\n",
    "# 无限循环，直到break被触发\n",
    "while cap.isOpened():\n",
    "    \n",
    "    # 获取画面\n",
    "    success, frame = cap.read()\n",
    "    \n",
    "    if not success: # 如果获取画面不成功，则退出\n",
    "        print('获取画面不成功，退出')\n",
    "        break\n",
    "    \n",
    "    ## 逐帧处理\n",
    "    frame = process_frame(frame)\n",
    "    \n",
    "    # 展示处理后的三通道图像\n",
    "    cv2.imshow('my_window',frame)\n",
    "    \n",
    "    key_pressed = cv2.waitKey(60) # 每隔多少毫秒毫秒，获取键盘哪个键被按下\n",
    "    # print('键盘上被按下的键：', key_pressed)\n",
    "\n",
    "    if key_pressed in [ord('q'),27]: # 按键盘上的q或esc退出（在英文输入法下）\n",
    "        break\n",
    "    \n",
    "# 关闭摄像头\n",
    "cap.release()\n",
    "\n",
    "# 关闭图像窗口\n",
    "cv2.destroyAllWindows()"
   ],
   "metadata": {
    "collapsed": false,
    "ExecuteTime": {
     "end_time": "2023-09-06T14:31:37.925643600Z",
     "start_time": "2023-09-06T14:31:36.216564Z"
    }
   },
   "id": "7e12c69243ca432d"
  },
  {
   "cell_type": "code",
   "execution_count": null,
   "outputs": [],
   "source": [],
   "metadata": {
    "collapsed": false,
    "ExecuteTime": {
     "end_time": "2023-09-06T14:31:37.937162200Z",
     "start_time": "2023-09-06T14:31:37.927155300Z"
    }
   },
   "id": "e560a900e6377c7a"
  }
 ],
 "metadata": {
  "kernelspec": {
   "display_name": "Python 3",
   "language": "python",
   "name": "python3"
  },
  "language_info": {
   "codemirror_mode": {
    "name": "ipython",
    "version": 2
   },
   "file_extension": ".py",
   "mimetype": "text/x-python",
   "name": "python",
   "nbconvert_exporter": "python",
   "pygments_lexer": "ipython2",
   "version": "2.7.6"
  }
 },
 "nbformat": 4,
 "nbformat_minor": 5
}
